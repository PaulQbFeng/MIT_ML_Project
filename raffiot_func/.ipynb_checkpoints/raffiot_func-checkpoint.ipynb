{
 "cells": [
  {
   "cell_type": "markdown",
   "metadata": {},
   "source": [
    "# Raffiot functions for project 1"
   ]
  },
  {
   "cell_type": "markdown",
   "metadata": {},
   "source": [
    "1. Loss functions & compute gradient function"
   ]
  },
  {
   "cell_type": "code",
   "execution_count": 1,
   "metadata": {
    "collapsed": true
   },
   "outputs": [],
   "source": [
    "import numpy as np\n",
    "\n",
    "def compute_mse(y, tx, w):\n",
    "    return (1/(2*tx.shape[0]))*sum((y-tx@w)**2)\n",
    "def compute_loss_rmse(y,tx,w):\n",
    "    return (compute_mse(y,tx,w)*2)**0.5\n",
    "def compute_gradient(y, tx, w):\n",
    "    return -(1/tx.shape[0])*np.transpose(tx)@(y-tx@w)"
   ]
  },
  {
   "cell_type": "markdown",
   "metadata": {},
   "source": [
    "2. Linear regression using gradient descent"
   ]
  },
  {
   "cell_type": "code",
   "execution_count": 4,
   "metadata": {},
   "outputs": [],
   "source": [
    "def least_squares_GD(y, tx, initial_w, max_iters, gamma):\n",
    "    \n",
    "    #I first compute tabs and then get minimum loss with associated w\n",
    "    #because don't know what initial value can be put as initial loss\n",
    "    \n",
    "    ws = [initial_w]\n",
    "    losses = []\n",
    "    w = initial_w\n",
    "    \n",
    "    for n_iter in range(max_iters):\n",
    "        loss = compute_mse(y,tx,w)\n",
    "        gradient = compute_gradient(y,tx,w)\n",
    "        ws.append(w)\n",
    "        losses.append(loss)\n",
    "\n",
    "    \n",
    "    indexMin = values.index(min(losses))\n",
    "    \n",
    "    return losses[indexMin], ws[indexMin]"
   ]
  },
  {
   "cell_type": "markdown",
   "metadata": {},
   "source": [
    "2. Linear regression using stochastic gradient descent"
   ]
  },
  {
   "cell_type": "code",
   "execution_count": null,
   "metadata": {
    "collapsed": true
   },
   "outputs": [],
   "source": [
    "def stochastic_gradient_descent(y, tx, initial_w, batch_size, max_iters, gamma):\n",
    "    ws = [initial_w]\n",
    "    losses = []\n",
    "    w = initial_w\n",
    "    for n_iter in range(max_iters):\n",
    "        \n",
    "        for minibatch_y, minibatch_tx in batch_iter(y, tx, batch_size):\n",
    "            loss = compute_mse(minibatch_y,minibatch_tx,w)\n",
    "            gradient = compute_gradient(minibatch_y,minibatch_tx,w)\n",
    "            \n",
    "            w = w - gamma*gradient\n",
    "            ws.append(w)\n",
    "            losses.append(loss)\n",
    " \n",
    "    indexMin = values.index(min(losses))\n",
    "    \n",
    "    return losses[indexMin], ws[indexMin]"
   ]
  },
  {
   "cell_type": "code",
   "execution_count": null,
   "metadata": {
    "collapsed": true
   },
   "outputs": [],
   "source": [
    "3. Least squares regression using normal equations"
   ]
  },
  {
   "cell_type": "code",
   "execution_count": null,
   "metadata": {
    "collapsed": true
   },
   "outputs": [],
   "source": [
    "def least_squares(y, tx):\n",
    "    txt = tx.transpose()\n",
    "    w= np.linalg.solve(txt@tx,txt@y)\n",
    "    loss = compute_mse(y,tx,w)\n",
    "    \n",
    "    return loss, w"
   ]
  },
  {
   "cell_type": "code",
   "execution_count": null,
   "metadata": {
    "collapsed": true
   },
   "outputs": [],
   "source": [
    "4. Ridge regression using normal equations"
   ]
  },
  {
   "cell_type": "code",
   "execution_count": null,
   "metadata": {
    "collapsed": true
   },
   "outputs": [],
   "source": [
    "def ridge_regression(y, tx, lambda_):\n",
    "    \n",
    "    txt = tx.transpose()\n",
    "    lambda_prim = 2*y.shape[0]*lambda_\n",
    "    identity = np.identity(tx.shape[1])\n",
    "    w = np.linalg.inv(txt@tx+lambda_prim*identity)@txt@y\n",
    "    #w= np.linalg.solve(txt@tx+lambda_prim*identity,txt@y)\n",
    "    loss = compute_mse(y,tx,w)\n",
    "    return loss,w"
   ]
  }
 ],
 "metadata": {
  "kernelspec": {
   "display_name": "Python 3",
   "language": "python",
   "name": "python3"
  },
  "language_info": {
   "codemirror_mode": {
    "name": "ipython",
    "version": 3
   },
   "file_extension": ".py",
   "mimetype": "text/x-python",
   "name": "python",
   "nbconvert_exporter": "python",
   "pygments_lexer": "ipython3",
   "version": "3.6.2"
  }
 },
 "nbformat": 4,
 "nbformat_minor": 2
}
