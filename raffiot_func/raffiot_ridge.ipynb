{
 "cells": [
  {
   "cell_type": "code",
   "execution_count": 2,
   "metadata": {},
   "outputs": [],
   "source": [
    "%matplotlib notebook\n",
    "import numpy as np\n",
    "from proj1_helpers import load_csv_data, create_csv_submission\n",
    "from helpers import *\n",
    "import matplotlib.pyplot as plt\n",
    "\n",
    "cheminTrain = 'C:/Users/Raphael/Desktop/EPFL/Machine_Learning/train.csv'\n",
    "cheminTest =  'C:/Users/Raphael/Desktop/EPFL/Machine_Learning/test.csv'\n",
    "def compute_mse(y, tx, w):\n",
    "    return (1/(2*tx.shape[0]))*np.linalg.norm(y-tx@w)**2\n",
    "def compute_loss_rmse(y,tx,w):\n",
    "    return (compute_mse(y,tx,w)*2)**0.5\n",
    "def standardize(x):\n",
    "    \"\"\"Standardize the original data set.\"\"\"\n",
    "    mean_x = np.mean(x, axis=0)\n",
    "    x = x - mean_x\n",
    "    std_x = np.std(x, axis=0)\n",
    "    x = x / std_x\n",
    "    return x, mean_x, std_x\n",
    "def standardizeNine(x):\n",
    "    mask = np.any( x == -999, axis=0)\n",
    "    xWithnine = np.copy(x)\n",
    "    columnStandardize = (x[:,mask] == -999).astype(int)\n",
    "    xWithnine[:,mask] = columnStandardize\n",
    "    return xWithnine\n",
    "def addColumnNine(x):\n",
    "    mask = np.any( x == -999, axis=0)\n",
    "    columnStandardize = (x[:,mask] == -999).astype(int)\n",
    "    return columnStandardize\n",
    "    \n",
    "def standardizeNineByMean(x):\n",
    "    mask = np.any( x == -999, axis=0)\n",
    "    print(mask.shape)\n",
    "    xWithnine = np.copy(x)\n",
    "    df3 = xWithnine[:,mask]\n",
    "    for i in range(mask.shape[0]):\n",
    "        test = df3[:,i]\n",
    "        test2 = test[test !=-999]\n",
    "        mean = np.mean(test2)     \n",
    "        df3[:,i][np.where(test == -999)] = mean\n",
    "    return df3\n",
    "    \n",
    "def build_k_indices(y, k_fold, seed):\n",
    "    num_row = y.shape[0]\n",
    "    interval = int(num_row / k_fold)\n",
    "    np.random.seed(seed)\n",
    "    indices = np.random.permutation(num_row)\n",
    "    k_indices = [indices[k * interval: (k + 1) * interval]\n",
    "                 for k in range(k_fold)]\n",
    "    return np.array(k_indices)\n",
    "def predict_labels(weights, data):\n",
    "    \"\"\"Generates class predictions given weights, and a test data matrix\"\"\"\n",
    "    y_pred = np.dot(data, weights)\n",
    "    y_pred[np.where(y_pred <= 0.5)] = -1\n",
    "    y_pred[np.where(y_pred > 0.5)] = 1\n",
    "    return y_pred"
   ]
  },
  {
   "cell_type": "code",
   "execution_count": 3,
   "metadata": {
    "collapsed": true
   },
   "outputs": [],
   "source": [
    "def ridge_regression(y, tx, lambda_):\n",
    "    txt = tx.transpose()\n",
    "    lambda_prim = 2*y.shape[0]*lambda_\n",
    "    identity = np.identity(tx.shape[1])\n",
    "    w = np.linalg.inv(txt@tx+lambda_prim*identity)@txt@y\n",
    "    #w= np.linalg.solve(txt@tx+lambda_prim*identity,txt@y)\n",
    "    loss = compute_mse(y,tx,w)\n",
    "    return loss,w"
   ]
  },
  {
   "cell_type": "code",
   "execution_count": 4,
   "metadata": {
    "collapsed": true
   },
   "outputs": [],
   "source": [
    "def cross_validation_visualization(lambds, mse_tr, mse_te):\n",
    "\n",
    "    plt.semilogx(lambds, mse_tr, marker=\".\", color='b', label='train error')\n",
    "    plt.semilogx(lambds, mse_te, marker=\".\", color='r', label='test error')\n",
    "    plt.xlabel(\"lambda\")\n",
    "    plt.ylabel(\"rmse\")\n",
    "    plt.title(\"cross validation (k_fold = 5): Ridge regression\")\n",
    "    plt.legend(loc=2)\n",
    "    plt.grid(True)\n",
    "    plt.savefig(\"cross_validation\")"
   ]
  },
  {
   "cell_type": "markdown",
   "metadata": {},
   "source": [
    "# IMPORT DATA"
   ]
  },
  {
   "cell_type": "code",
   "execution_count": 5,
   "metadata": {},
   "outputs": [
    {
     "name": "stdout",
     "output_type": "stream",
     "text": [
      "[[ 138.47    51.655   97.827 ...,    1.24    -2.475  113.497]\n",
      " [ 160.937   68.768  103.235 ..., -999.    -999.      46.226]\n",
      " [-999.     162.172  125.953 ..., -999.    -999.      44.251]\n",
      " ..., \n",
      " [ 105.457   60.526   75.839 ..., -999.    -999.      41.992]\n",
      " [  94.951   19.362   68.812 ..., -999.    -999.       0.   ]\n",
      " [-999.      72.756   70.831 ..., -999.    -999.       0.   ]]\n"
     ]
    }
   ],
   "source": [
    "# load data.\n",
    "yb, input_data, ids = load_csv_data(cheminTrain)\n",
    "yb_test, input_data_test, ids_test = load_csv_data(cheminTest)\n",
    "\n",
    "\n",
    "print(input_data)\n",
    "\n"
   ]
  },
  {
   "cell_type": "markdown",
   "metadata": {},
   "source": [
    "# Preprocess"
   ]
  },
  {
   "cell_type": "code",
   "execution_count": 20,
   "metadata": {},
   "outputs": [
    {
     "name": "stdout",
     "output_type": "stream",
     "text": [
      "(250000, 30)\n",
      "(568238, 30)\n"
     ]
    }
   ],
   "source": [
    "#withoutNine = standardizeNine(input_data)\n",
    "print(input_data.shape)\n",
    "print(input_data_test.shape)\n",
    "#whitoutNine_test = standardizeNine(input_data_test)\n",
    "x,_,_ = standardize(input_data)\n",
    "x_test,_,_ = standardize(input_data_test)\n",
    "x_NineColumn = addColumnNine(input_data)\n",
    "x_test_NineColumn = addColumnNine(input_data_test)\n",
    "\n",
    "y = (yb + 1) / 2"
   ]
  },
  {
   "cell_type": "code",
   "execution_count": 7,
   "metadata": {
    "collapsed": true
   },
   "outputs": [],
   "source": [
    "def cross_validation(y, x, k_indices, k, lambda_, degree):\n",
    "\n",
    "    testLine = k_indices[k]\n",
    "    k_indices_prim = np.delete(k_indices,k,0).flatten()\n",
    "    testX = x[testLine]\n",
    "    testY = y[testLine]\n",
    "    trainX = x[k_indices_prim]\n",
    "    trainY = y[k_indices_prim]\n",
    "    \n",
    "    traintmpX = build_poly(trainX,degree)\n",
    "    testmpX = build_poly(testX,degree)\n",
    "    \n",
    "    \n",
    "    loss, w = ridge_regression(trainY,traintmpX,lambda_)\n",
    "    loss_tr = loss\n",
    "    loss_te = compute_mse(testY,testmpX,w)\n",
    "    \n",
    "    y_predTest = predict_labels(w, testmpX)\n",
    "    print(len(y_predTest[y_predTest == -1]) / len(y_predTest))\n",
    "    \n",
    "    return w, loss_tr, loss_te"
   ]
  },
  {
   "cell_type": "code",
   "execution_count": 8,
   "metadata": {
    "collapsed": true
   },
   "outputs": [],
   "source": [
    "def build_poly(x, degree):\n",
    "    y = np.copy(x)\n",
    "    for i in range(1,degree):\n",
    "        y = np.concatenate((y,np.power(x,i+1)),axis=1)\n",
    "                           \n",
    "    return y"
   ]
  },
  {
   "cell_type": "code",
   "execution_count": 9,
   "metadata": {
    "collapsed": true
   },
   "outputs": [],
   "source": [
    "a = np.array([[1,2,3],[2,2,2]])\n",
    "build_poly(a,2)\n",
    "b = np.array([[-999,2,3],[-999,2,2],[3,4,-999]])\n",
    "\n",
    "#kk = standardizeNineByMean(b)\n",
    "#print(kk)\n",
    "\n",
    "#mask = np.any( b == -999, axis=0)\n",
    "#print(mask)\n",
    "#df3 = b[:,mask]\n",
    "#print(df3)\n",
    "#test = df3[:,0]\n",
    "#test2 = test[test !=-999]\n",
    "#mean = np.mean(test2)\n",
    "#print('\\n')\n",
    "#print('\\n')\n",
    "#print(test)\n",
    "#print(mean)\n",
    "\n",
    "#print(test)\n",
    "#test[np.where(test == -999)] = mean\n",
    "#print(test)\n",
    "\n",
    "\n",
    "    #test = df3[:,i]\n",
    "    #test = test[test != -999]\n",
    "    #mean = np.mean(test)\n",
    "    #print(np.mean(test))\n",
    "    #print(test)\n",
    "    #iiii = df3[df3[:,i] == -999] = mean\n",
    "    #print(iiii)\n",
    "    #res = np.concatenate((res,test[tes]))\n",
    "#print(df3)\n",
    "#print(df3)\n",
    "#columnStandardize = (x[:,mask] == -999).astype(int)\n",
    "#xWithnine[:,mask] = columnStandardize"
   ]
  },
  {
   "cell_type": "code",
   "execution_count": 10,
   "metadata": {
    "collapsed": true
   },
   "outputs": [],
   "source": [
    "\n",
    "def cross_validation_demo():\n",
    "    seed = 1\n",
    "    degree = 2\n",
    "    k_fold = 5\n",
    "    xxxxxx = build_poly(x,degree)\n",
    "    xxxxxx = np.concatenate((xxxxxx,x_NineColumn),axis = 1)\n",
    "    xxxxxx = np.concatenate((np.ones((xxxxxx.shape[0],1)),xxxxxx),axis=1)\n",
    "    lambdas = np.logspace(-12, 5, 5)\n",
    "    \n",
    "    k_indices = build_k_indices(y, k_fold, seed)\n",
    "    \n",
    "    rmse_tr = []\n",
    "    rmse_te = []\n",
    "\n",
    "    for ind, lambda_ in enumerate(lambdas):\n",
    "        loss_tr_total = 0;\n",
    "        loss_te_total = 0;\n",
    "        for k in range(k_fold) :\n",
    "            w,loss_tr,loss_te = cross_validation(y, xxxxxx, k_indices, k, lambda_, degree)\n",
    "            loss_tr_total += loss_tr\n",
    "            loss_te_total += loss_te\n",
    "\n",
    "        rmse_tr.append(loss_tr_total/k_fold)\n",
    "        rmse_te.append(loss_te_total/k_fold)\n",
    "        print(\"Current lambda = {i}\".format(i=lambda_))\n",
    "\n",
    "    print(rmse_tr)\n",
    "    print(rmse_te)\n",
    "    #cross_validation_visualization(lambdas, rmse_tr, rmse_te)"
   ]
  },
  {
   "cell_type": "code",
   "execution_count": 11,
   "metadata": {},
   "outputs": [
    {
     "name": "stdout",
     "output_type": "stream",
     "text": [
      "0.15784\n",
      "0.9797\n",
      "0.91088\n",
      "0.15194\n",
      "0.3018\n",
      "Current lambda = 1e-12\n",
      "0.71612\n",
      "0.71872\n",
      "0.7142\n",
      "0.71774\n",
      "0.71564\n",
      "Current lambda = 1.7782794100389228e-08\n",
      "0.7205\n",
      "0.7231\n",
      "0.7167\n",
      "0.7199\n",
      "0.71998\n",
      "Current lambda = 0.00031622776601683794\n",
      "0.94402\n",
      "0.94288\n",
      "0.94538\n",
      "0.94394\n",
      "0.9446\n",
      "Current lambda = 5.623413251903491\n",
      "0.9999\n",
      "0.99982\n",
      "0.99972\n",
      "0.99998\n",
      "0.9999\n",
      "Current lambda = 100000.0\n",
      "[7.6852227930334056, 0.077879092002636346, 0.079790691806010589, 0.10037402373015288, 0.17090744579698638]\n",
      "[183.68463028083374, 168.26613176951872, 172.83014288202281, 39.941273500789784, 27.788605317061467]\n"
     ]
    }
   ],
   "source": [
    "\n",
    "cross_validation_demo()"
   ]
  },
  {
   "cell_type": "code",
   "execution_count": 12,
   "metadata": {},
   "outputs": [
    {
     "name": "stdout",
     "output_type": "stream",
     "text": [
      "(250000,)\n",
      "(250000, 120)\n",
      "(250000, 131)\n"
     ]
    }
   ],
   "source": [
    "lambda_ = 0.00001\n",
    "degree = 4\n",
    "#traintmpX = build_poly(x[:,0:3],degree)\n",
    "#testmpX = build_poly(x_test[:,0:3],degree)\n",
    "traintmpX = build_poly(x,degree)\n",
    "testmpX = build_poly(x_test,degree)\n",
    "traintmpXX = np.concatenate((traintmpX,x_NineColumn),axis = 1)\n",
    "testmpXX = np.concatenate((testmpX,x_test_NineColumn),axis = 1)\n",
    "print(y.shape)\n",
    "print(traintmpX.shape)\n",
    "print(traintmpXX.shape)\n",
    "loss, w = ridge_regression(y,traintmpXX,lambda_)\n",
    "y_pred = predict_labels(w, testmpXX)\n",
    "create_csv_submission(ids_test, y_pred, 'submission_for_kaggle.csv')"
   ]
  },
  {
   "cell_type": "code",
   "execution_count": 19,
   "metadata": {},
   "outputs": [
    {
     "data": {
      "text/plain": [
       "0.739556312671803"
      ]
     },
     "execution_count": 19,
     "metadata": {},
     "output_type": "execute_result"
    }
   ],
   "source": [
    "len(y_pred[y_pred == -1]) / len(y_pred)"
   ]
  },
  {
   "cell_type": "code",
   "execution_count": 14,
   "metadata": {},
   "outputs": [
    {
     "data": {
      "text/plain": [
       "0.657332"
      ]
     },
     "execution_count": 14,
     "metadata": {},
     "output_type": "execute_result"
    }
   ],
   "source": [
    "len(yb[yb == -1]) / len(yb)"
   ]
  },
  {
   "cell_type": "code",
   "execution_count": 15,
   "metadata": {},
   "outputs": [
    {
     "data": {
      "text/plain": [
       "(568238,)"
      ]
     },
     "execution_count": 15,
     "metadata": {},
     "output_type": "execute_result"
    }
   ],
   "source": [
    "y_pred.shape"
   ]
  },
  {
   "cell_type": "code",
   "execution_count": 16,
   "metadata": {
    "collapsed": true
   },
   "outputs": [],
   "source": [
    "def split_data(x, y, ratio, seed=1):\n",
    "\n",
    "    np.random.seed(seed)\n",
    "    N = len(x)\n",
    "\n",
    "    n_train = int(ratio * N)\n",
    "    \n",
    "    train_index = np.random.choice(N, n_train, replace=False)\n",
    "\n",
    "    index = np.arange(N)\n",
    "\n",
    "    mask = np.in1d(index, train_index)\n",
    "\n",
    "    test_index = np.random.permutation(index[~mask])\n",
    "\n",
    "    x_train = x[train_index]\n",
    "    y_train = y[train_index]\n",
    "\n",
    "    x_test = x[test_index]\n",
    "    y_test = y[test_index]\n",
    "\n",
    "    return x_train, y_train, x_test, y_test\n",
    "\n",
    "def prediction(w_train,tx,y_test):\n",
    "    \n",
    "    y_pred1 = predict_labels(w_train,tx)\n",
    "\n",
    "    for n,i in enumerate(y_test):\n",
    "        if i==0:\n",
    "              y_test[n]=-1\n",
    "            \n",
    "    right = 0\n",
    "    wrong = 0\n",
    "\n",
    "    for i in range(len(y_test)):\n",
    "        if y_test[i] == y_pred1[i]:\n",
    "            right +=1 \n",
    "        else:\n",
    "            wrong +=1 \n",
    "    \n",
    "        \n",
    "    print(\"Good prediction : \", right)\n",
    "    print(\"Bad predition : \" , wrong)\n",
    "    print(\"Ratio : \" ,right/len(y_test))\n",
    "    return right/len(y_test)"
   ]
  },
  {
   "cell_type": "code",
   "execution_count": null,
   "metadata": {},
   "outputs": [
    {
     "name": "stdout",
     "output_type": "stream",
     "text": [
      "(568238, 116)\n",
      "(568238, 11)\n",
      "(568238,)\n"
     ]
    }
   ],
   "source": [
    "x_NineColumn = addColumnNine(input_data)\n",
    "x_test_NineColumn = addColumnNine(input_data_test)\n",
    "\n",
    "lambda_x = 1e-13\n",
    "lambdas = np.logspace(-14, -6, 30)\n",
    "degree = 4\n",
    "\n",
    "x_wout_categ = np.delete(x,[22],axis = 1)\n",
    "w_test_wout_categ = np.delete(x_test,[22],axis = 1)\n",
    "\n",
    "a = build_poly(x_wout_categ,degree)\n",
    "b = build_poly(w_test_wout_categ,degree)\n",
    "c = np.concatenate((a,x_NineColumn),axis = 1)\n",
    "print(b.shape)\n",
    "print(x_test_NineColumn.shape)\n",
    "d = np.concatenate((b,x_test_NineColumn),axis = 1)\n",
    "\n",
    "c = np.concatenate((np.ones((c.shape[0],1)),c),axis=1)\n",
    "d = np.concatenate((np.ones((d.shape[0],1)),d),axis=1)\n",
    "\n",
    "loss, w = ridge_regression(y,c,lambda_)\n",
    "y_pred = predict_labels(w, d)\n",
    "print(y_pred.shape)\n",
    "create_csv_submission(ids_test, y_pred, 'submission_for_kaggle.csv')\n",
    "\n",
    "x_train, y_train, x_test, y_test = split_data(c, y, 0.8)\n",
    "ratios = []\n",
    "\n",
    "for ind, lambda_ in enumerate(lambdas):\n",
    "    loss, w = ridge_regression(y_train,x_train,lambda_)\n",
    "    ratios.append(prediction(w,x_test,y_test))\n",
    "\n",
    "ratio_visualization(lambdas, ratios)"
   ]
  },
  {
   "cell_type": "code",
   "execution_count": null,
   "metadata": {
    "collapsed": true
   },
   "outputs": [],
   "source": [
    "def ratio_visualization(lambds, ratios):\n",
    "\n",
    "    plt.clf()\n",
    "    plt.semilogx(lambds, ratios, marker=\".\", color='b', label='ratios')\n",
    "    plt.xlabel(\"lambda\")\n",
    "    plt.ylabel(\"ratio\")\n",
    "    plt.title(\"ratio by lambda\")\n",
    "    plt.legend(loc=2)\n",
    "    plt.grid(True)\n",
    "    plt.show()\n",
    "    plt.savefig(\"ratios by lambda\")"
   ]
  },
  {
   "cell_type": "code",
   "execution_count": 18,
   "metadata": {},
   "outputs": [
    {
     "name": "stdout",
     "output_type": "stream",
     "text": [
      "(568238,)\n"
     ]
    }
   ],
   "source": [
    "print(y_pred.shape)"
   ]
  },
  {
   "cell_type": "code",
   "execution_count": null,
   "metadata": {
    "collapsed": true
   },
   "outputs": [],
   "source": []
  }
 ],
 "metadata": {
  "kernelspec": {
   "display_name": "Python 3",
   "language": "python",
   "name": "python3"
  },
  "language_info": {
   "codemirror_mode": {
    "name": "ipython",
    "version": 3
   },
   "file_extension": ".py",
   "mimetype": "text/x-python",
   "name": "python",
   "nbconvert_exporter": "python",
   "pygments_lexer": "ipython3",
   "version": "3.6.2"
  }
 },
 "nbformat": 4,
 "nbformat_minor": 2
}
