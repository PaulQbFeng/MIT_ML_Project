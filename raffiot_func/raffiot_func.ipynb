{
 "cells": [
  {
   "cell_type": "markdown",
   "metadata": {},
   "source": [
    "# Raffiot functions for project 1"
   ]
  },
  {
   "cell_type": "markdown",
   "metadata": {},
   "source": [
    "Usefull imports"
   ]
  },
  {
   "cell_type": "code",
   "execution_count": 2,
   "metadata": {
    "collapsed": true
   },
   "outputs": [],
   "source": [
    "# Useful starting lines\n",
    "%matplotlib inline\n",
    "import numpy as np\n",
    "import matplotlib.pyplot as plt\n",
    "\n",
    "%load_ext autoreload\n",
    "%autoreload 2"
   ]
  },
  {
   "cell_type": "markdown",
   "metadata": {},
   "source": [
    "Helpers"
   ]
  },
  {
   "cell_type": "code",
   "execution_count": 3,
   "metadata": {
    "collapsed": true
   },
   "outputs": [],
   "source": [
    "from proj1_helpers import load_csv_data, predict_labels, create_csv_submission\n",
    "from helpers import *\n",
    "\n",
    "cheminTrain = 'C:/Users/Raphael/Desktop/EPFL/Machine_Learning/train.csv'\n",
    "cheminTest =  'C:/Users/Raphael/Desktop/EPFL/Machine_Learning/test.csv'\n",
    "\n",
    "def standardize(x):\n",
    "    \"\"\"Standardize the original data set.\"\"\"\n",
    "    mean_x = np.mean(x, axis=0)\n",
    "    x = x - mean_x\n",
    "    std_x = np.std(x, axis=0)\n",
    "    x = x / std_x\n",
    "    return x, mean_x, std_x\n",
    "\n",
    "# load data.\n",
    "yb, input_data, ids = load_csv_data(cheminTrain,True)\n",
    "yb = (yb+1)/2\n",
    "yb_test, input_data_test, ids_test = load_csv_data(cheminTest)\n",
    "\n",
    "# build sampled x and y.\n",
    "x, mean_x, std_x = standardize(input_data)\n",
    "x_test, meanx_test, std_x_test = standardize(input_data_test)\n"
   ]
  },
  {
   "cell_type": "markdown",
   "metadata": {},
   "source": [
    "1. Loss functions & compute gradient function"
   ]
  },
  {
   "cell_type": "code",
   "execution_count": 4,
   "metadata": {
    "collapsed": true
   },
   "outputs": [],
   "source": [
    "import numpy as np\n",
    "\n",
    "def compute_mse(y, tx, w):\n",
    "    return (1/(2*tx.shape[0]))*np.linalg.norm(y-tx@w)**2\n",
    "def compute_loss_rmse(y,tx,w):\n",
    "    return (compute_mse(y,tx,w)*2)**0.5\n",
    "def compute_gradient_LS(y, tx, w):\n",
    "    return -(1/tx.shape[0])*np.transpose(tx)@(y-tx@w)\n",
    "def sigmoid(t):\n",
    "    return np.exp(t)/(1+np.exp(t))\n",
    "def calculate_loss_LR(y, tx, w):\n",
    "    sum = 0\n",
    "    for i in range(y.shape[0]):\n",
    "        sum += np.log(1+np.exp(tx[i].transpose()@w))-y[i]*(tx[i].transpose()@w)\n",
    "    return sum\n",
    "def calculate_gradient_LR(y, tx, w):\n",
    "    return tx.transpose()@(sigmoid(tx@w)-y)\n",
    "def calculate_loss_RLR(y, tx, w, lambda_):\n",
    "    return calculate_loss_LR(y,tx,w) + (lambda_/2)*sum(w**2)\n",
    "def calculate_gradient_RLR(y, tx, w, lambda_):\n",
    "    return calculate_gradient_LR(y,tx,w) + lambda_*np.sum(w)"
   ]
  },
  {
   "cell_type": "markdown",
   "metadata": {},
   "source": [
    " 2- Linear regression using gradient descent"
   ]
  },
  {
   "cell_type": "code",
   "execution_count": 5,
   "metadata": {
    "collapsed": true
   },
   "outputs": [],
   "source": [
    "def least_squares_GD(y, tx, initial_w, max_iters, gamma):\n",
    "    \n",
    "    w = initial_w\n",
    "    loss=0\n",
    "    for n_iter in range(max_iters):\n",
    "        loss = compute_mse(y,tx,w)\n",
    "        gradient = compute_gradient_LS(y,tx,w)\n",
    "        w = w - gamma*gradient\n",
    "\n",
    "    \n",
    "    return loss, w"
   ]
  },
  {
   "cell_type": "markdown",
   "metadata": {},
   "source": [
    " 3- Linear regression using stochastic gradient descent"
   ]
  },
  {
   "cell_type": "code",
   "execution_count": 6,
   "metadata": {
    "collapsed": true
   },
   "outputs": [],
   "source": [
    "def stochastic_gradient_descent(y, tx, initial_w, batch_size, max_iters, gamma):\n",
    "    ws = [initial_w]\n",
    "    losses = []\n",
    "    w = initial_w\n",
    "    for n_iter in range(max_iters):\n",
    "        \n",
    "        for minibatch_y, minibatch_tx in batch_iter(y, tx, batch_size):\n",
    "            loss = compute_mse(minibatch_y,minibatch_tx,w)\n",
    "            gradient = compute_gradient_LS(minibatch_y,minibatch_tx,w)\n",
    "            \n",
    "            w = w - gamma*gradient\n",
    "            ws.append(w)\n",
    "            losses.append(loss)\n",
    " \n",
    "    indexMin = values.index(min(losses))\n",
    "    \n",
    "    return losses[indexMin], ws[indexMin]"
   ]
  },
  {
   "cell_type": "markdown",
   "metadata": {},
   "source": [
    " 4- Least squares regression using normal equations"
   ]
  },
  {
   "cell_type": "code",
   "execution_count": 7,
   "metadata": {
    "collapsed": true
   },
   "outputs": [],
   "source": [
    "def least_squares(y, tx):\n",
    "    txt = tx.transpose()\n",
    "    w= np.linalg.solve(txt@tx,txt@y)\n",
    "    loss = compute_mse(y,tx,w)\n",
    "    \n",
    "    return loss, w"
   ]
  },
  {
   "cell_type": "markdown",
   "metadata": {},
   "source": [
    " 5- Ridge regression using normal equations"
   ]
  },
  {
   "cell_type": "code",
   "execution_count": 8,
   "metadata": {
    "collapsed": true
   },
   "outputs": [],
   "source": [
    "def ridge_regression(y, tx, lambda_):\n",
    "    \n",
    "    txt = tx.transpose()\n",
    "    lambda_prim = 2*y.shape[0]*lambda_\n",
    "    identity = np.identity(tx.shape[1])\n",
    "    w = np.linalg.inv(txt@tx+lambda_prim*identity)@txt@y\n",
    "    #w= np.linalg.solve(txt@tx+lambda_prim*identity,txt@y)\n",
    "    loss = compute_mse(y,tx,w)\n",
    "    return loss,w"
   ]
  },
  {
   "cell_type": "markdown",
   "metadata": {},
   "source": [
    "6- Logistic regression using gradient descent or SGD"
   ]
  },
  {
   "cell_type": "code",
   "execution_count": 9,
   "metadata": {
    "collapsed": true
   },
   "outputs": [],
   "source": [
    "def logistic_regression(y, tx, initial_w, max_iters, gamma):\n",
    "    w = initial_w\n",
    "    loss = 0\n",
    "    for iter in range(max_iters):\n",
    "        loss = calculate_loss_LR(y,tx,w)\n",
    "        gradient = calculate_gradient_LR(y,tx,w)\n",
    "        w= w - gamma*gradient\n",
    "    return loss, w"
   ]
  },
  {
   "cell_type": "markdown",
   "metadata": {},
   "source": [
    "7- Regularized logistic regression using gradient descent or SGD"
   ]
  },
  {
   "cell_type": "code",
   "execution_count": 10,
   "metadata": {
    "collapsed": true
   },
   "outputs": [],
   "source": [
    "def reg_logistic_regression(y, tx, lambda_ ,initial_w, max_iters, gamma):\n",
    "    w = initial_w\n",
    "    for iter in range(max_iters):\n",
    "        \n",
    "        loss = calculate_loss_RLR(y,tx,w,lambda_)\n",
    "        gradient = calculate_gradient_RLR(y,tx,w,lambda_)\n",
    "        print(\"iteration={i}, loss={l}, w0={w0}, w1={w1}, w2={w2}\".format(i=iter,l=loss,w0=w[0],w1=w[1],w2=w[2]))\n",
    "        print(\"iteration={i} g0={g0}, g1={g1} ,g2={g2}\".format(i=iter,g0=gradient[0],g1=gradient[1],g2=gradient[2]))\n",
    "        w = w - gamma*gradient\n",
    "    loss = calculate_loss_RLR(y,tx,w,lambda_)\n",
    "    return loss,w"
   ]
  },
  {
   "cell_type": "code",
   "execution_count": 11,
   "metadata": {},
   "outputs": [],
   "source": [
    "initial_w = np.ones((x.shape[1],))*0.001\n",
    "gamma =0.01\n",
    "max_iters = 100\n",
    "lambda_ = 0.01\n",
    "\n",
    "#loss,w = ridge_regression(y, tx, lambda_)\n",
    "\n",
    "\n",
    "#y_pred = predict_labels(w, x_test)\n",
    "#create_csv_submission(ids_test, y_pred, 'submission_for_kaggle.csv')"
   ]
  },
  {
   "cell_type": "code",
   "execution_count": null,
   "metadata": {
    "collapsed": true
   },
   "outputs": [],
   "source": []
  }
 ],
 "metadata": {
  "kernelspec": {
   "display_name": "Python 3",
   "language": "python",
   "name": "python3"
  },
  "language_info": {
   "codemirror_mode": {
    "name": "ipython",
    "version": 3
   },
   "file_extension": ".py",
   "mimetype": "text/x-python",
   "name": "python",
   "nbconvert_exporter": "python",
   "pygments_lexer": "ipython3",
   "version": "3.6.2"
  }
 },
 "nbformat": 4,
 "nbformat_minor": 2
}
