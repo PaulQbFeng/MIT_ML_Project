{
 "cells": [
  {
   "cell_type": "code",
   "execution_count": 2,
   "metadata": {
    "collapsed": true
   },
   "outputs": [],
   "source": [
    "def compute_mse(y, tx, w):\n",
    "    \"\"\"Calculate the loss using mse.\"\"\"\n",
    "    N = y.shape[0]\n",
    "    e = y - tx @ w.T\n",
    "    return 1 / (2 * N) * np.sum(np.absolute(e))\n",
    "\n",
    "def compute_gradient(y, tx, w):\n",
    "    \"\"\"Compute the gradient.\"\"\"\n",
    "    N = y.shape[0]\n",
    "    e = y - tx @ w.T\n",
    "    return -1 / N * tx.T @ e \n",
    "\n",
    "def least_squares_GD(y, tx, initial_w, max_iters, gamma):\n",
    "    \"\"\"Least squares using gradient descent algorithm.\"\"\"\n",
    "    w = initial_w\n",
    "    \n",
    "    for n_iter in range(max_iters):\n",
    "        DL = compute_gradient(y, tx, w)        \n",
    "        w = w - DL * gamma\n",
    "        \n",
    "    return w, compute_mse(y, tx, w)\n",
    "\n",
    "def least_squares_SGD(y, tx, initial_w, batch_size, max_iters, gamma):\n",
    "    \"\"\"Least squares using stochastic gradient descent algorithm.\"\"\"\n",
    "    w = initial_w\n",
    "    \n",
    "    for n_iter in range(max_iters):        \n",
    "        for yn, txn in batch_iter(y, tx, batch_size):\n",
    "            DL_n = compute_stoch_gradient(yn, txn, w)\n",
    "            w = w - DL_n * gamma\n",
    "                        \n",
    "    return w, compute_mse(y, tx, w)\n",
    "\n",
    "def least_squares(y, tx):\n",
    "    \"\"\"Least squares using normal equation.\"\"\"\n",
    "    a = tx.T @ tx\n",
    "    b = tx.T @ y\n",
    "    w = np.linalg.solve(a, b)\n",
    "    return w, compute_mse(y, tx, w)\n",
    "\n",
    "def ridge_regression(y, tx, lambda_):\n",
    "    \"\"\"Ridge regression.\"\"\"\n",
    "    N = tx.shape[0]\n",
    "    a = (tx.T @ tx) + 2 * N * lambda_ * np.eye(tx.shape[1])\n",
    "    b = tx.T @ y\n",
    "    w = np.linalg.solve(a, b)\n",
    "    return w, compute_mse(y, tx, w)"
   ]
  }
 ],
 "metadata": {
  "kernelspec": {
   "display_name": "Python 3",
   "language": "python",
   "name": "python3"
  },
  "language_info": {
   "codemirror_mode": {
    "name": "ipython",
    "version": 3
   },
   "file_extension": ".py",
   "mimetype": "text/x-python",
   "name": "python",
   "nbconvert_exporter": "python",
   "pygments_lexer": "ipython3",
   "version": "3.6.1"
  }
 },
 "nbformat": 4,
 "nbformat_minor": 2
}
