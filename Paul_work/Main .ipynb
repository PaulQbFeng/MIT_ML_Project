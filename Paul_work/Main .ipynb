{
 "cells": [
  {
   "cell_type": "code",
   "execution_count": 5,
   "metadata": {
    "collapsed": false
   },
   "outputs": [],
   "source": [
    "import numpy as np\n",
    "import matplotlib.pyplot as plt\n",
    "import random \n",
    "import datetime\n",
    "import math\n",
    "from proj1_helpers import *\n",
    "from implementations import *\n",
    "from helpers import *\n"
   ]
  },
  {
   "cell_type": "code",
   "execution_count": 6,
   "metadata": {
    "collapsed": false
   },
   "outputs": [
    {
     "name": "stdout",
     "output_type": "stream",
     "text": [
      "(250000, 1)\n"
     ]
    }
   ],
   "source": [
    "data_path = \"/Users/mac/Desktop/ML_course-master/projects/project1/train.csv\"\n",
    "\n",
    "y, x, ids = load_csv_data(data_path, sub_sample=False )\n",
    "x, mean_x, std_x = standardize(x)\n",
    "\n",
    "y = y.reshape(y.shape[0],1)\n",
    "for n,i in enumerate(y):\n",
    "    if i==-1:\n",
    "          y[n]=0\n",
    "\n",
    "print(y.shape)"
   ]
  },
  {
   "cell_type": "markdown",
   "metadata": {},
   "source": [
    "# Splitting the data to test the method after the training "
   ]
  },
  {
   "cell_type": "code",
   "execution_count": 3,
   "metadata": {
    "collapsed": false
   },
   "outputs": [
    {
     "name": "stdout",
     "output_type": "stream",
     "text": [
      "(200000, 30)\n",
      "(50000, 30)\n"
     ]
    }
   ],
   "source": [
    "ratio = 0.8\n",
    "x_train,y_train,x_test,y_test = split_data(x,y,ratio,seed = 1)\n",
    "print(x_train.shape)\n",
    "print(x_test.shape)"
   ]
  },
  {
   "cell_type": "markdown",
   "metadata": {},
   "source": [
    "# Main: Choose the method to use "
   ]
  },
  {
   "cell_type": "code",
   "execution_count": 8,
   "metadata": {
    "collapsed": false
   },
   "outputs": [
    {
     "name": "stdout",
     "output_type": "stream",
     "text": [
      "time of execution: 0.132778\n"
     ]
    }
   ],
   "source": [
    "max_iter = 10000\n",
    "threshold = 1e-8\n",
    "\n",
    "lambda_ = 1e-8\n",
    "gamma = 3e-8\n",
    "degree = 2\n",
    "\n",
    "#tx_train = np.c_[np.ones((x_train.shape[0], 1)), x_train]\n",
    "#tx_test = np.c_[np.ones((x_test.shape[0], 1)), x_test]\n",
    "\n",
    "phi_train = build_poly(x_train,degree)\n",
    "phi_test = build_poly(x_test,degree)\n",
    "\n",
    "#initial_w = np.zeros((phi_train.shape[1],1))\n",
    "\n",
    "losses =[]\n",
    "\n",
    "#print(phi.shape)\n",
    "\n",
    "start_time = datetime.datetime.now()\n",
    "\n",
    "#w_train, loss = least_squares(y_train,tx_train)\n",
    "w_train, loss = ridge_regression(y_train, phi_train,lambda_)\n",
    "#w_train,loss = logistic_regression(y_train, phi_train, initial_w, max_iter, threshold, gamma, losses)\n",
    "\n",
    "end_time = datetime.datetime.now()\n",
    "\n",
    "print(\"Time of execution:\",(end_time - start_time).total_seconds())\n",
    "    \n",
    "#print(\"w_LS_GD\" ,w_train)"
   ]
  },
  {
   "cell_type": "markdown",
   "metadata": {},
   "source": [
    "Prediction based on the training weights"
   ]
  },
  {
   "cell_type": "code",
   "execution_count": 7,
   "metadata": {
    "collapsed": false
   },
   "outputs": [
    {
     "ename": "NameError",
     "evalue": "name 'w_train' is not defined",
     "output_type": "error",
     "traceback": [
      "\u001b[0;31m---------------------------------------------------------------------------\u001b[0m",
      "\u001b[0;31mNameError\u001b[0m                                 Traceback (most recent call last)",
      "\u001b[0;32m<ipython-input-7-b27f31247f6d>\u001b[0m in \u001b[0;36m<module>\u001b[0;34m()\u001b[0m\n\u001b[0;32m----> 1\u001b[0;31m \u001b[0mprediction\u001b[0m\u001b[0;34m(\u001b[0m\u001b[0mw_train\u001b[0m\u001b[0;34m,\u001b[0m\u001b[0mphi_test\u001b[0m\u001b[0;34m,\u001b[0m\u001b[0my_test\u001b[0m\u001b[0;34m)\u001b[0m\u001b[0;34m\u001b[0m\u001b[0m\n\u001b[0m",
      "\u001b[0;31mNameError\u001b[0m: name 'w_train' is not defined"
     ]
    }
   ],
   "source": [
    "prediction(w_train,phi_test,y_test)"
   ]
  },
  {
   "cell_type": "markdown",
   "metadata": {},
   "source": [
    "# Ready for submission"
   ]
  },
  {
   "cell_type": "code",
   "execution_count": 3,
   "metadata": {
    "collapsed": false
   },
   "outputs": [
    {
     "data": {
      "text/plain": [
       "(568238, 30)"
      ]
     },
     "execution_count": 3,
     "metadata": {},
     "output_type": "execute_result"
    }
   ],
   "source": [
    "dataset = \"/Users/mac/Desktop/ML_course-master/projects/project1/test.csv\"\n",
    "\n",
    "y_test, data, ids = load_csv_data(dataset, sub_sample=False)\n",
    "\n",
    "data.shape\n"
   ]
  },
  {
   "cell_type": "code",
   "execution_count": 4,
   "metadata": {
    "collapsed": false
   },
   "outputs": [
    {
     "ename": "NameError",
     "evalue": "name 'degree' is not defined",
     "output_type": "error",
     "traceback": [
      "\u001b[0;31m---------------------------------------------------------------------------\u001b[0m",
      "\u001b[0;31mNameError\u001b[0m                                 Traceback (most recent call last)",
      "\u001b[0;32m<ipython-input-4-013e32cbc1de>\u001b[0m in \u001b[0;36m<module>\u001b[0;34m()\u001b[0m\n\u001b[1;32m      1\u001b[0m \u001b[0mdata\u001b[0m\u001b[0;34m,\u001b[0m \u001b[0mmean_data\u001b[0m\u001b[0;34m,\u001b[0m \u001b[0mstd_data\u001b[0m \u001b[0;34m=\u001b[0m \u001b[0mstandardize\u001b[0m\u001b[0;34m(\u001b[0m\u001b[0mdata\u001b[0m\u001b[0;34m)\u001b[0m\u001b[0;34m\u001b[0m\u001b[0m\n\u001b[1;32m      2\u001b[0m \u001b[0;31m#data = np.c_[np.ones((y.shape[0], 1)), x]\u001b[0m\u001b[0;34m\u001b[0m\u001b[0;34m\u001b[0m\u001b[0m\n\u001b[0;32m----> 3\u001b[0;31m \u001b[0mphi_data\u001b[0m \u001b[0;34m=\u001b[0m \u001b[0mbuild_poly\u001b[0m\u001b[0;34m(\u001b[0m\u001b[0mdata\u001b[0m\u001b[0;34m,\u001b[0m\u001b[0mdegree\u001b[0m\u001b[0;34m)\u001b[0m\u001b[0;34m\u001b[0m\u001b[0m\n\u001b[0m\u001b[1;32m      4\u001b[0m \u001b[0;34m\u001b[0m\u001b[0m\n\u001b[1;32m      5\u001b[0m \u001b[0mphi_data\u001b[0m\u001b[0;34m.\u001b[0m\u001b[0mshape\u001b[0m\u001b[0;34m\u001b[0m\u001b[0m\n",
      "\u001b[0;31mNameError\u001b[0m: name 'degree' is not defined"
     ]
    }
   ],
   "source": [
    "data, mean_data, std_data = standardize(data)\n",
    "#data = np.c_[np.ones((y.shape[0], 1)), x]\n",
    "phi_data = build_poly(data,degree)\n",
    "\n",
    "phi_data.shape"
   ]
  },
  {
   "cell_type": "code",
   "execution_count": 14,
   "metadata": {
    "collapsed": false
   },
   "outputs": [],
   "source": [
    "y_pred = predict_labels(w_train, phi_data)\n",
    "\n",
    "create_csv_submission(ids, y_pred, \"logistic_regression_poly_2.csv\")"
   ]
  },
  {
   "cell_type": "markdown",
   "metadata": {},
   "source": [
    "# END"
   ]
  },
  {
   "cell_type": "markdown",
   "metadata": {},
   "source": [
    "Trash"
   ]
  },
  {
   "cell_type": "code",
   "execution_count": null,
   "metadata": {
    "collapsed": true
   },
   "outputs": [],
   "source": [
    "%matplotlib notebook\n",
    "\n",
    "import matplotlib.pyplot as plt\n",
    "\n",
    "print(rmse_gamma)\n",
    "\n",
    "indexMin = rmse_gamma.index(min(rmse_gamma))\n",
    "\n",
    "print(\"Minimal rmse\", rmse_gamma[indexMin])\n",
    "print(\"Minimal lambdas\", gammas[indexMin])\n",
    "print(\"best weight\", weight_gamma[indexMin])\n",
    "\n",
    "a = weight_gamma[indexMin].reshape(31,1)[:,0]\n",
    "\n",
    "print(a)\n",
    "\n",
    "plt.plot(gammas,rmse_gamma)\n",
    "plt.xlabel(\"gammas\")\n",
    "plt.ylabel(\"rmse\")\n",
    "plt.title(\"Rmse function of the learning rate gamma (Logistic regression)\")\n",
    "\n"
   ]
  }
 ],
 "metadata": {
  "kernelspec": {
   "display_name": "Python 3",
   "language": "python",
   "name": "python3"
  },
  "language_info": {
   "codemirror_mode": {
    "name": "ipython",
    "version": 3
   },
   "file_extension": ".py",
   "mimetype": "text/x-python",
   "name": "python",
   "nbconvert_exporter": "python",
   "pygments_lexer": "ipython3",
   "version": "3.6.0"
  }
 },
 "nbformat": 4,
 "nbformat_minor": 2
}
