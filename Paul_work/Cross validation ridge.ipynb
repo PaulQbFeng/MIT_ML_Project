{
 "cells": [
  {
   "cell_type": "code",
   "execution_count": 3,
   "metadata": {},
   "outputs": [
    {
     "ename": "ModuleNotFoundError",
     "evalue": "No module named 'proj1_helpers'",
     "output_type": "error",
     "traceback": [
      "\u001b[1;31m---------------------------------------------------------------------------\u001b[0m",
      "\u001b[1;31mModuleNotFoundError\u001b[0m                       Traceback (most recent call last)",
      "\u001b[1;32m<ipython-input-3-7ec3816db091>\u001b[0m in \u001b[0;36m<module>\u001b[1;34m()\u001b[0m\n\u001b[0;32m      3\u001b[0m \u001b[1;32mimport\u001b[0m \u001b[0mmatplotlib\u001b[0m\u001b[1;33m.\u001b[0m\u001b[0mpyplot\u001b[0m \u001b[1;32mas\u001b[0m \u001b[0mplt\u001b[0m\u001b[1;33m\u001b[0m\u001b[0m\n\u001b[0;32m      4\u001b[0m \u001b[1;32mimport\u001b[0m \u001b[0mrandom\u001b[0m\u001b[1;33m\u001b[0m\u001b[0m\n\u001b[1;32m----> 5\u001b[1;33m \u001b[1;32mfrom\u001b[0m \u001b[0mproj1_helpers\u001b[0m \u001b[1;32mimport\u001b[0m \u001b[1;33m*\u001b[0m\u001b[1;33m\u001b[0m\u001b[0m\n\u001b[0m\u001b[0;32m      6\u001b[0m \u001b[1;32mimport\u001b[0m \u001b[0mdatetime\u001b[0m\u001b[1;33m\u001b[0m\u001b[0m\n\u001b[0;32m      7\u001b[0m \u001b[1;32mimport\u001b[0m \u001b[0mmath\u001b[0m\u001b[1;33m\u001b[0m\u001b[0m\n",
      "\u001b[1;31mModuleNotFoundError\u001b[0m: No module named 'proj1_helpers'"
     ]
    }
   ],
   "source": [
    "%matplotlib notebook\n",
    "import numpy as np\n",
    "import matplotlib.pyplot as plt\n",
    "import random \n",
    "from proj1_helpers import *\n",
    "import datetime\n",
    "import math"
   ]
  },
  {
   "cell_type": "code",
   "execution_count": null,
   "metadata": {},
   "outputs": [],
   "source": [
    "def standardize(x):\n",
    " \n",
    "    mean_x = np.mean(x, axis=0)\n",
    "    x = x - mean_x\n",
    "    std_x = np.std(x, axis=0)\n",
    "    x = x / std_x\n",
    "    return x, mean_x, std_x\n",
    "\n",
    "data_path = \"/Users/mac/Desktop/ML_course-master/projects/project1/train.csv\"\n",
    "\n",
    "y, x, ids = load_csv_data(data_path, sub_sample=False)\n",
    "x, mean_x, std_x = standardize(x)\n",
    "\n",
    "y = y.reshape(y.shape[0],1)\n",
    "\n",
    "for n,i in enumerate(y):  #Change -1 into 1 to avoid negative losses\n",
    "    if i==-1:\n",
    "          y[n]=0\n",
    "\n",
    "print(\"y.shape\",y.shape)\n",
    "print(\"x.shape\",x.shape)"
   ]
  },
  {
   "cell_type": "code",
   "execution_count": null,
   "metadata": {
    "collapsed": true
   },
   "outputs": [],
   "source": [
    "def compute_mse(y, tx, w):\n",
    "    \"\"\"compute the loss by mse.\"\"\"\n",
    "    e = y - tx.dot(w)\n",
    "    mse = np.transpose(e).dot(e) / (2*len(e))\n",
    "    return mse\n",
    "\n",
    "def ridge_regression(y, tx, lambda_):\n",
    "\n",
    "    w_ridge =  np.linalg.inv(np.transpose(tx).dot(tx) + lambda_*(2*len(y))*np.eye(tx.shape[1])).dot((np.transpose(tx))).dot(y)\n",
    "    loss_ridge =  compute_mse(y,tx,w_ridge) + lambda_*np.transpose(w_ridge).dot(w_ridge)\n",
    "    \n",
    "    return w_ridge, loss_ridge\n",
    "\n",
    "def build_k_indices(y, k_fold, seed):\n",
    "\n",
    "    num_row = y.shape[0]\n",
    "    interval = int(num_row / k_fold)\n",
    "    np.random.seed(seed)\n",
    "    indices = np.random.permutation(num_row)\n",
    "    k_indices = [indices[k * interval: (k + 1) * interval]\n",
    "                 for k in range(k_fold)]\n",
    "    return np.array(k_indices)\n",
    "\n",
    "\n",
    "def cross_validation_visualization(lambds, mse_tr, mse_te):\n",
    "\n",
    "    plt.semilogx(lambds, mse_tr, marker=\".\", color='b', label='train error')\n",
    "    plt.semilogx(lambds, mse_te, marker=\".\", color='r', label='test error')\n",
    "    plt.xlabel(\"lambda\")\n",
    "    plt.ylabel(\"rmse\")\n",
    "    plt.title(\"cross validation (k_fold = 5): Ridge regression\")\n",
    "    plt.legend(loc=2)\n",
    "    plt.grid(True)\n",
    "    plt.savefig(\"cross_validation\")\n",
    "    \n",
    "\n",
    "def cross_validation(y, x, k_indices, k, k_fold, lambda_):\n",
    "    \n",
    "    k_test = k_indices[k]\n",
    "    \n",
    "    L = len(k_test)\n",
    "    N = y.shape[0]\n",
    "    \n",
    "    x_train_indice = np.array([]) #Initialisation of the training indices \n",
    "    \n",
    "    for i in range(k_fold):           \n",
    "        if i!=k:\n",
    "            x_train_indice = np.concatenate((x_train_indice,k_indices[i])) #Concatenation of the array of training indices\n",
    "            \n",
    "        x_train_indice = list(map(int, x_train_indice)) #Concatenation of empty array with another array transforms the integers into floats.\n",
    "\n",
    "    x_train = x[x_train_indice] #Build the matrices x_train, x_test, y_train and y_test\n",
    "    x_test = x[k_test]\n",
    "    y_train = np.array([y[i] for i in x_train_indice])\n",
    "    y_test = np.array([y[i] for i in k_test])\n",
    "    \n",
    "    tx_train = np.c_[np.ones((N-L, 1)), x_train] #Include the offset\n",
    "    tx_test = np.c_[np.ones((L, 1)), x_test]\n",
    "    \n",
    "    w_train, loss = ridge_regression(y_train, tx_train,lambda_)\n",
    "    \n",
    "    loss_tr = math.sqrt(2*loss)  #Compute MSE\n",
    "    loss_te = math.sqrt(2*(compute_mse(y_test,tx_test,w_train) + lambda_*np.transpose(w_train).dot(w_train)))\n",
    "    \n",
    "    return loss_tr, loss_te\n",
    "\n",
    "def cross_validation_demo():\n",
    "    seed = 1\n",
    "    k_fold = 5\n",
    "    lambdas = np.logspace(-12, -5, 10)\n",
    "\n",
    "    # split data in k fold\n",
    "    \n",
    "    k_indices = build_k_indices(y, k_fold, seed)\n",
    "  \n",
    "    # define lists to store the loss of training data and test data\n",
    "    \n",
    "    rmse_tr = []\n",
    "    rmse_te = []\n",
    "    rmse_tr_iter = [] \n",
    "    rmse_te_iter = []\n",
    "    \n",
    "    for lambda_ in lambdas:\n",
    "        for k in range(k_fold):\n",
    "            \n",
    "            rmse_trk , rmse_tek = cross_validation(y,x,k_indices,k,k_fold,lambda_)\n",
    "            \n",
    "            rmse_tr_iter.append(rmse_trk) #Store the k_fold train and test losses\n",
    "            rmse_te_iter.append(rmse_tek)\n",
    "            \n",
    "        rmse_tr.append(np.mean(rmse_tr_iter)) #Compute the mean and store in the final list \n",
    "        rmse_te.append(np.mean(rmse_te_iter))\n",
    "        \n",
    "        print(\"Current lambda = {i}\".format(i=lambda_))\n",
    "        \n",
    "    cross_validation_visualization(lambdas, rmse_tr, rmse_te)\n",
    "\n",
    " "
   ]
  },
  {
   "cell_type": "code",
   "execution_count": 2,
   "metadata": {},
   "outputs": [
    {
     "ename": "NameError",
     "evalue": "name 'cross_validation_demo' is not defined",
     "output_type": "error",
     "traceback": [
      "\u001b[1;31m---------------------------------------------------------------------------\u001b[0m",
      "\u001b[1;31mNameError\u001b[0m                                 Traceback (most recent call last)",
      "\u001b[1;32m<ipython-input-2-9626908f3a3e>\u001b[0m in \u001b[0;36m<module>\u001b[1;34m()\u001b[0m\n\u001b[1;32m----> 1\u001b[1;33m \u001b[0mcross_validation_demo\u001b[0m\u001b[1;33m(\u001b[0m\u001b[1;33m)\u001b[0m\u001b[1;33m\u001b[0m\u001b[0m\n\u001b[0m",
      "\u001b[1;31mNameError\u001b[0m: name 'cross_validation_demo' is not defined"
     ]
    }
   ],
   "source": [
    "cross_validation_demo()   "
   ]
  },
  {
   "cell_type": "code",
   "execution_count": null,
   "metadata": {
    "collapsed": true
   },
   "outputs": [],
   "source": []
  }
 ],
 "metadata": {
  "kernelspec": {
   "display_name": "Python 3",
   "language": "python",
   "name": "python3"
  },
  "language_info": {
   "codemirror_mode": {
    "name": "ipython",
    "version": 3
   },
   "file_extension": ".py",
   "mimetype": "text/x-python",
   "name": "python",
   "nbconvert_exporter": "python",
   "pygments_lexer": "ipython3",
   "version": "3.6.2"
  }
 },
 "nbformat": 4,
 "nbformat_minor": 2
}
