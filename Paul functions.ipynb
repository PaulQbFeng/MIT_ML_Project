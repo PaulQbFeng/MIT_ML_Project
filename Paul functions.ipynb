{
 "cells": [
  {
   "cell_type": "markdown",
   "metadata": {
    "collapsed": true
   },
   "source": [
    "# Implementations_Paul \n"
   ]
  },
  {
   "cell_type": "markdown",
   "metadata": {},
   "source": [
    "I. Least square GD "
   ]
  },
  {
   "cell_type": "code",
   "execution_count": 6,
   "metadata": {
    "collapsed": true
   },
   "outputs": [],
   "source": [
    "def compute_mse(y, tx, w):\n",
    "    \n",
    "    N = len(y)\n",
    "    e = y - tx.dot(w)\n",
    "    \n",
    "    return 1/N*np.transpose(e).dot(e)\n",
    "\n",
    "\n",
    "def compute_gradient(y, tx, w):\n",
    "    \n",
    "    N = len(y)\n",
    "    e = y - tx.dot(w)\n",
    "    \n",
    "    return -1/N*np.transpose(tx).dot(e)\n",
    "\n",
    "def least_squares_GD(y, tx, initial_w, max_iters, gamma):\n",
    "\n",
    "    # Define parameters to store w and loss\n",
    "    ws = [initial_w]\n",
    "    losses = []\n",
    "    w = initial_w\n",
    "    \n",
    "    for n_iter in range(max_iters):\n",
    "       \n",
    "        grad = compute_gradient(y,tx,w)\n",
    "        loss = compute_mse(y,tx,w)\n",
    "        \n",
    "        w = w - gamma*grad\n",
    "        \n",
    "        # store w and loss\n",
    "        \n",
    "        ws.append(w)\n",
    "        losses.append(loss)\n",
    "        \n",
    "        w = ws[max_iters - 1] #Last weight calculated -> best one \n",
    "        loss = losses[max_iters - 1] #Last loss calculated -> best one \n",
    "\n",
    "    return w, loss\n"
   ]
  },
  {
   "cell_type": "markdown",
   "metadata": {},
   "source": [
    "II. Stochastic Least Square GD"
   ]
  },
  {
   "cell_type": "code",
   "execution_count": 7,
   "metadata": {
    "collapsed": true
   },
   "outputs": [],
   "source": [
    "def least_squares_SGD(y, tx, initial_w, batch_size, max_iters, gamma):\n",
    "    \n",
    "    mini_y, mini_tx = batch_iter(y,tx,batch_size,num_batches = 2, shuffle = True) #dunno how batch_iter works\n",
    "\n",
    "    mini_y = mini_y[:1][0]\n",
    "    mini_tx = mini_tx[1:2][0]\n",
    "    \n",
    "    ws = [initial_w]\n",
    "    losses = []\n",
    "    w = initial_w\n",
    "    \n",
    "    \n",
    "    for n_iter in range(max_iters):\n",
    "       \n",
    "        grad = compute_gradient(mini_y,mini_tx,w)\n",
    "        loss = compute_mse(mini_y,mini_tx,w)\n",
    "        \n",
    "        w = w - gamma*grad\n",
    "\n",
    "        ws.append(w)\n",
    "        losses.append(loss)\n",
    "    \n",
    "    w = ws[max_iters -1]\n",
    "    loss = losses[max_iters -1]\n",
    "        \n",
    "        \n",
    "    return w, loss"
   ]
  },
  {
   "cell_type": "markdown",
   "metadata": {},
   "source": [
    "III. Least Squares Normal Equation"
   ]
  },
  {
   "cell_type": "code",
   "execution_count": 8,
   "metadata": {
    "collapsed": true
   },
   "outputs": [],
   "source": [
    "def least_squares(y, tx):\n",
    "\n",
    "    w =  np.linalg.inv(np.transpose(tx).dot(tx)).dot(np.transpose(tx)).dot(y)\n",
    "    \n",
    "    loss = compute_mse(y,tx,w)\n",
    "    \n",
    "    return w, loss"
   ]
  },
  {
   "cell_type": "markdown",
   "metadata": {},
   "source": [
    "IV. Ridge Regression "
   ]
  },
  {
   "cell_type": "code",
   "execution_count": null,
   "metadata": {
    "collapsed": true
   },
   "outputs": [],
   "source": [
    "def ridge_regression(y, tx, lambda_):\n",
    "    \n",
    "    w =  np.linalg.inv(np.transpose(tx).dot(tx) + lambda_*(2*len(y))*np.eye(tx.shape[1])).dot((np.transpose(tx))).dot(y)\n",
    "    \n",
    "    loss =  compute_mse(y,tx,w) + lambda_*np.transpose(w_ridge).dot(w_ridge)\n",
    "    \n",
    "    return w, loss"
   ]
  }
 ],
 "metadata": {
  "kernelspec": {
   "display_name": "Python 3",
   "language": "python",
   "name": "python3"
  },
  "language_info": {
   "codemirror_mode": {
    "name": "ipython",
    "version": 3
   },
   "file_extension": ".py",
   "mimetype": "text/x-python",
   "name": "python",
   "nbconvert_exporter": "python",
   "pygments_lexer": "ipython3",
   "version": "3.6.0"
  }
 },
 "nbformat": 4,
 "nbformat_minor": 2
}
